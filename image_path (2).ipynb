{
 "cells": [
  {
   "cell_type": "code",
   "execution_count": 1,
   "metadata": {
    "colab": {
     "base_uri": "https://localhost:8080/"
    },
    "id": "JXsDR2SGuUee",
    "outputId": "ab53ee85-6172-4e24-e895-474044e5e708"
   },
   "outputs": [
    {
     "name": "stderr",
     "output_type": "stream",
     "text": [
      "'apt-get'��(��) ���� �Ǵ� �ܺ� ����, ������ �� �ִ� ���α׷�, �Ǵ�\n",
      "��ġ ������ �ƴմϴ�.\n",
      "'apt-get'��(��) ���� �Ǵ� �ܺ� ����, ������ �� �ִ� ���α׷�, �Ǵ�\n",
      "��ġ ������ �ƴմϴ�.\n"
     ]
    },
    {
     "name": "stdout",
     "output_type": "stream",
     "text": [
      "Requirement already satisfied: pytesseract in c:\\users\\rkdal\\.conda\\envs\\newenv\\lib\\site-packages (0.3.13)\n",
      "Requirement already satisfied: packaging>=21.3 in c:\\users\\rkdal\\.conda\\envs\\newenv\\lib\\site-packages (from pytesseract) (24.1)\n",
      "Requirement already satisfied: Pillow>=8.0.0 in c:\\users\\rkdal\\.conda\\envs\\newenv\\lib\\site-packages (from pytesseract) (10.4.0)\n",
      "Requirement already satisfied: opencv-python-headless in c:\\users\\rkdal\\.conda\\envs\\newenv\\lib\\site-packages (4.10.0.84)\n",
      "Requirement already satisfied: numpy>=1.21.2 in c:\\users\\rkdal\\.conda\\envs\\newenv\\lib\\site-packages (from opencv-python-headless) (1.26.4)\n"
     ]
    }
   ],
   "source": [
    "# Tesseract OCR 설치\n",
    "!apt-get update\n",
    "!apt-get install -y tesseract-ocr\n",
    "\n",
    "# Python용 pytesseract 라이브러리 설치\n",
    "!pip install pytesseract\n",
    "!pip install opencv-python-headless"
   ]
  },
  {
   "cell_type": "code",
   "execution_count": 2,
   "metadata": {
    "colab": {
     "base_uri": "https://localhost:8080/"
    },
    "id": "z_I4GcasvudD",
    "outputId": "634ff960-393e-4503-9dd8-1a391e172071"
   },
   "outputs": [
    {
     "name": "stderr",
     "output_type": "stream",
     "text": [
      "'apt-get'��(��) ���� �Ǵ� �ܺ� ����, ������ �� �ִ� ���α׷�, �Ǵ�\n",
      "��ġ ������ �ƴմϴ�.\n"
     ]
    }
   ],
   "source": [
    "!apt-get install -y tesseract-ocr-kor"
   ]
  },
  {
   "cell_type": "code",
   "execution_count": 3,
   "metadata": {
    "id": "Ok78upQev0Ke"
   },
   "outputs": [],
   "source": [
    "import pytesseract\n",
    "pytesseract.pytesseract.tesseract_cmd = r'/usr/bin/tesseract'"
   ]
  },
  {
   "cell_type": "code",
   "execution_count": null,
   "metadata": {
    "colab": {
     "base_uri": "https://localhost:8080/",
     "height": 232
    },
    "id": "qRqdS_w6sBdb",
    "outputId": "3815af3f-25b5-494a-fa03-03913839a0c5"
   },
   "outputs": [
    {
     "name": "stdout",
     "output_type": "stream",
     "text": [
      "runs/detect/result/crops/0/Enter--2024-11-25_15-48-052.jpg\n"
     ]
    },
    {
     "data": {
      "image/png": "[encoded data removed]",
      "text/plain": [
       "<Figure size 1000x800 with 1 Axes>"
      ]
     },
     "metadata": {},
     "output_type": "display_data"
    },
    {
     "name": "stdout",
     "output_type": "stream",
     "text": [
      "Extracted License Plate Text: \n"
     ]
    }
   ],
   "source": [
    "import os\n",
    "os.environ['KMP_DUPLICATE_LIB_OK']='True'   #기기에 설치된 소프트웨어적인 문제로 인한 임시조치\n",
    "import cv2\n",
    "import pytesseract\n",
    "import numpy as np\n",
    "from matplotlib import pyplot as plt\n",
    "\n",
    "pytesseract.pytesseract.tesseract_cmd = 'C:/Program Files/Tesseract-OCR/tesseract.exe'\n",
    "\n",
    "def extract_license_plate(image_path):\n",
    "    image = cv2.imread(image_path)\n",
    "\n",
    "    # 전처리: 그레이스케일 변환\n",
    "    gray = cv2.cvtColor(image, cv2.COLOR_BGR2GRAY)\n",
    "\n",
    "    # 전처리: 블러링 및 엣지 검출\n",
    "    blur = cv2.GaussianBlur(gray, (5, 5), 0)\n",
    "    edged = cv2.Canny(blur, 100, 200)\n",
    "\n",
    "    contours, _ = cv2.findContours(edged.copy(), cv2.RETR_TREE, cv2.CHAIN_APPROX_SIMPLE)\n",
    "    contours = sorted(contours, key=cv2.contourArea, reverse=True)[:10]\n",
    "\n",
    "    plate = None\n",
    "    for contour in contours:\n",
    "        perimeter = cv2.arcLength(contour, True)\n",
    "        approx = cv2.approxPolyDP(contour, 0.02 * perimeter, True)\n",
    "\n",
    "        if len(approx) == 4:\n",
    "            pts = approx.reshape(4, 2)\n",
    "\n",
    "            rect = np.zeros((4, 2), dtype=\"float32\")\n",
    "            s = pts.sum(axis=1)\n",
    "            rect[0] = pts[np.argmin(s)]\n",
    "            rect[2] = pts[np.argmax(s)]\n",
    "\n",
    "            diff = np.diff(pts, axis=1)\n",
    "            rect[1] = pts[np.argmin(diff)]\n",
    "            rect[3] = pts[np.argmax(diff)]\n",
    "\n",
    "            (tl, tr, br, bl) = rect\n",
    "            widthA = np.sqrt(((br[0] - bl[0]) ** 2) + ((br[1] - bl[1]) ** 2))\n",
    "            widthB = np.sqrt(((tr[0] - tl[0]) ** 2) + ((tr[1] - tl[1]) ** 2))\n",
    "            maxWidth = max(int(widthA), int(widthB))\n",
    "\n",
    "            heightA = np.sqrt(((tr[0] - br[0]) ** 2) + ((tr[1] - br[1]) ** 2))\n",
    "            heightB = np.sqrt(((tl[0] - bl[0]) ** 2) + ((tl[1] - bl[1]) ** 2))\n",
    "            maxHeight = max(int(heightA), int(heightB))\n",
    "\n",
    "            dst = np.array([\n",
    "                [0, 0],\n",
    "                [maxWidth - 1, 0],\n",
    "                [maxWidth - 1, maxHeight - 1],\n",
    "                [0, maxHeight - 1]\n",
    "            ], dtype=\"float32\")\n",
    "\n",
    "            M = cv2.getPerspectiveTransform(rect, dst)\n",
    "            plate = cv2.warpPerspective(gray, M, (maxWidth, maxHeight))\n",
    "            break\n",
    "\n",
    "    if plate is not None:\n",
    "        plate = cv2.resize(plate, None, fx=2, fy=2, interpolation=cv2.INTER_CUBIC)\n",
    "\n",
    "        _, plate_binary = cv2.threshold(plate, 0, 255, cv2.THRESH_BINARY + cv2.THRESH_OTSU)\n",
    "\n",
    "        text = pytesseract.image_to_string(plate_binary, lang='kor+eng', config='--psm 6 preserve_interword_spaces')\n",
    "        #chars = pytesseract.image_to_string(plate_binary, lang='kor', config='--psm 7 --oem 3')\n",
    "        plt.figure(figsize=(10, 8))\n",
    "        plt.imshow(plate_binary, cmap='gray')\n",
    "        plt.title(\"Processed Plate for OCR\")\n",
    "        plt.axis(\"off\")\n",
    "        plt.show()\n",
    "\n",
    "        return text.strip()\n",
    "    else:\n",
    "        return \"No plate detected\"\n",
    "    \n",
    "folder_path = 'runs/detect/result/crops/0/'\n",
    "\n",
    "# each_file_path_and_gen_time: 각 file의 경로와, 생성 시간을 저장함\n",
    "each_file_path_and_gen_time = []\n",
    "for each_file_name in os.listdir(folder_path):\n",
    "    # getctime: 입력받은 경로에 대한 생성 시간을 리턴\n",
    "    each_file_path = folder_path + each_file_name\n",
    "    each_file_gen_time = os.path.getctime(each_file_path)\n",
    "    each_file_path_and_gen_time.append(\n",
    "        (each_file_path, each_file_gen_time)\n",
    "    )\n",
    "\n",
    "# 가장 생성시각이 큰(가장 최근인) 파일을 리턴 \n",
    "most_recent_file = max(each_file_path_and_gen_time, key=lambda x: x[1])[0]\n",
    "print(most_recent_file)\n",
    "\n",
    "extracted_text = extract_license_plate(most_recent_file)\n",
    "print(\"Extracted License Plate Text:\", extracted_text)"
   ]
  },
  {
   "cell_type": "code",
   "execution_count": null,
   "metadata": {
    "id": "bpg5BMAQwd2Z"
   },
   "outputs": [],
   "source": []
  }
 ],
 "metadata": {
  "colab": {
   "provenance": []
  },
  "kernelspec": {
   "display_name": "newenv",
   "language": "python",
   "name": "python3"
  },
  "language_info": {
   "codemirror_mode": {
    "name": "ipython",
    "version": 3
   },
   "file_extension": ".py",
   "mimetype": "text/x-python",
   "name": "python",
   "nbconvert_exporter": "python",
   "pygments_lexer": "ipython3",
   "version": "3.11.10"
  }
 },
 "nbformat": 4,
 "nbformat_minor": 0
}
